{
  "nbformat": 4,
  "nbformat_minor": 0,
  "metadata": {
    "colab": {
      "provenance": [],
      "authorship_tag": "ABX9TyNAuuHCOatcS/JLUjqQj7gA",
      "include_colab_link": true
    },
    "kernelspec": {
      "name": "python3",
      "display_name": "Python 3"
    },
    "language_info": {
      "name": "python"
    }
  },
  "cells": [
    {
      "cell_type": "markdown",
      "metadata": {
        "id": "view-in-github",
        "colab_type": "text"
      },
      "source": [
        "<a href=\"https://colab.research.google.com/github/robarikita/demo/blob/main/Untitled0.ipynb\" target=\"_parent\"><img src=\"https://colab.research.google.com/assets/colab-badge.svg\" alt=\"Open In Colab\"/></a>"
      ]
    },
    {
      "cell_type": "code",
      "execution_count": null,
      "metadata": {
        "colab": {
          "base_uri": "https://localhost:8080/"
        },
        "id": "jjubbES050of",
        "outputId": "17a24627-4bde-4b16-de43-0c3c358738bf"
      },
      "outputs": [
        {
          "output_type": "stream",
          "name": "stdout",
          "text": [
            "First item: apple\n",
            "Length: 4\n",
            "Age: 21\n",
            "Keys: dict_keys(['name', 'age', 'is_student'])\n",
            "Mean temp: 23.46666666666667\n",
            "Doubled: [47.  44.2 49.6]\n"
          ]
        }
      ],
      "source": [
        "#1.\n",
        "# Example for list\n",
        "fruits = [\"apple\", \"banana\", 42, True]\n",
        "print(\"First item:\", fruits[0])\n",
        "print(\"Length:\", len(fruits))\n",
        "\n",
        "# Example for dictionary\n",
        "user = {\"name\": \"roba\", \"age\": 21, \"is_student\": True}\n",
        "print(\"Age:\", user[\"age\"])\n",
        "print(\"Keys:\", user.keys())\n",
        "\n",
        "# Example for numpy array\n",
        "import numpy as np\n",
        "temperatures = np.array([23.5, 22.1, 24.8])\n",
        "print(\"Mean temp:\", temperatures.mean())\n",
        "print(\"Doubled:\", temperatures * 2)\n"
      ]
    },
    {
      "cell_type": "markdown",
      "source": [
        "List: is a flexible, ordered collection that can hold anything (numbers, text, etc.)\n",
        "     that allow duplicates which can be accessible using indexes. where items stay in order and which is mutable that can be changed.\n",
        "\n",
        "  dictionary: is a collection of key-value pairs, where each key is unique and must be mutable\n",
        "          and retrieve things using a key (like a name tag) instead of a position and it is used for quick lookups\n",
        "\n",
        "\n",
        " NumPy array: is like a high-performance spreadsheet column—it’s built for numbers only, super fast for math,\n",
        "          and lets you do operations and scientific computing on entire datasets at once. and it is a grid of values which is usually all of the same data type.\n",
        "\n"
      ],
      "metadata": {
        "id": "UcU_lQTUYhdP"
      }
    },
    {
      "cell_type": "markdown",
      "source": [],
      "metadata": {
        "id": "QGt-djfXYavW"
      }
    },
    {
      "cell_type": "code",
      "source": [
        "# 2.\n",
        "def SquareOfEvensNum(num):\n",
        "    SquareOfEvensNum = []\n",
        "    for i in num:\n",
        "        if i % 2 == 0:\n",
        "            SquareOfEvensNum.append(i**2)\n",
        "    return SquareOfEvensNum"
      ],
      "metadata": {
        "id": "5yJFt5ZlEpAm"
      },
      "execution_count": null,
      "outputs": []
    },
    {
      "cell_type": "code",
      "source": [
        "#3.\n",
        "x=[1,2,3]\n",
        "y=x\n",
        "y.append(7)\n",
        "print(x)"
      ],
      "metadata": {
        "colab": {
          "base_uri": "https://localhost:8080/"
        },
        "id": "4UKKxASJZG9U",
        "outputId": "c8e14f63-ec56-4791-c806-84786b186ed1"
      },
      "execution_count": null,
      "outputs": [
        {
          "output_type": "stream",
          "name": "stdout",
          "text": [
            "[1, 2, 3, 7]\n"
          ]
        }
      ]
    },
    {
      "cell_type": "markdown",
      "source": [
        "# 3. the output of the code is :: [1, 2, 3, 7]\n",
        "because\n",
        "y = x : It makes y point to the same list in memory as x.\n",
        "y.append(7) :  modifies that shared list by adding 7.\n",
        "\n",
        "So, both x and y refer to the same list, and any changes made on y are also seen affect x.\n",
        "\n",
        "\n"
      ],
      "metadata": {
        "id": "Y5yrmG09HOyS"
      }
    },
    {
      "cell_type": "code",
      "source": [
        "#4 .\n",
        "import pandas as pd\n",
        "data = {\n",
        "    \"Age\": [25, 30, 35, 40, 22],\n",
        "    \"Salary\": [50000, 60000, 75000, 90000, 48000],\n",
        "    \"Department\": [\"HR\", \"Tech\", \"Tech\", \"Finance\", \"HR\"]\n",
        "}\n",
        "df = pd.DataFrame(data)\n",
        "print(\"Shape:\", df.shape)\n",
        "print(\"\\nSummary Statistics:\")\n",
        "print(df.describe())"
      ],
      "metadata": {
        "colab": {
          "base_uri": "https://localhost:8080/"
        },
        "id": "-UdUuwbRIkEe",
        "outputId": "f485658b-9560-4678-c8dd-c0bb0f5e3326"
      },
      "execution_count": null,
      "outputs": [
        {
          "output_type": "stream",
          "name": "stdout",
          "text": [
            "Shape: (5, 3)\n",
            "\n",
            "Summary Statistics:\n",
            "             Age        Salary\n",
            "count   5.000000      5.000000\n",
            "mean   30.400000  64600.000000\n",
            "std     7.300685  17770.762505\n",
            "min    22.000000  48000.000000\n",
            "25%    25.000000  50000.000000\n",
            "50%    30.000000  60000.000000\n",
            "75%    35.000000  75000.000000\n",
            "max    40.000000  90000.000000\n"
          ]
        }
      ]
    },
    {
      "cell_type": "markdown",
      "source": [
        "shape: Returns a tuple (rows, columns) showing the dimensions of your DataFrame.\n",
        "Example: (100, 5) means 100 rows and 5 columns.\n",
        "\n",
        "describe()\n",
        "Generates summary statistics for numerical columns:\n",
        "Count, mean, standard deviation (std), min/max, and quartiles (25%, 50%, 75%).\n",
        "For categorical data, it shows count, unique values, and top frequency."
      ],
      "metadata": {
        "id": "OM5mGpnQZrrN"
      }
    },
    {
      "cell_type": "code",
      "source": [
        "#5.\n",
        "import pandas as pd\n",
        "url = \"https://people.sc.fsu.edu/~jburkardt/data/csv/airtravel.csv\"\n",
        "df = pd.read_csv(url)\n",
        "df.head()"
      ],
      "metadata": {
        "colab": {
          "base_uri": "https://localhost:8080/",
          "height": 206
        },
        "id": "ibJ6Ked9K0wk",
        "outputId": "6193703e-d80e-44c4-f8de-05b2eee8aabf"
      },
      "execution_count": null,
      "outputs": [
        {
          "output_type": "execute_result",
          "data": {
            "text/plain": [
              "  Month   \"1958\"   \"1959\"   \"1960\"\n",
              "0   JAN      340      360      417\n",
              "1   FEB      318      342      391\n",
              "2   MAR      362      406      419\n",
              "3   APR      348      396      461\n",
              "4   MAY      363      420      472"
            ],
            "text/html": [
              "\n",
              "  <div id=\"df-b5eaba83-1c81-4560-a9ee-7505f3cf7178\" class=\"colab-df-container\">\n",
              "    <div>\n",
              "<style scoped>\n",
              "    .dataframe tbody tr th:only-of-type {\n",
              "        vertical-align: middle;\n",
              "    }\n",
              "\n",
              "    .dataframe tbody tr th {\n",
              "        vertical-align: top;\n",
              "    }\n",
              "\n",
              "    .dataframe thead th {\n",
              "        text-align: right;\n",
              "    }\n",
              "</style>\n",
              "<table border=\"1\" class=\"dataframe\">\n",
              "  <thead>\n",
              "    <tr style=\"text-align: right;\">\n",
              "      <th></th>\n",
              "      <th>Month</th>\n",
              "      <th>\"1958\"</th>\n",
              "      <th>\"1959\"</th>\n",
              "      <th>\"1960\"</th>\n",
              "    </tr>\n",
              "  </thead>\n",
              "  <tbody>\n",
              "    <tr>\n",
              "      <th>0</th>\n",
              "      <td>JAN</td>\n",
              "      <td>340</td>\n",
              "      <td>360</td>\n",
              "      <td>417</td>\n",
              "    </tr>\n",
              "    <tr>\n",
              "      <th>1</th>\n",
              "      <td>FEB</td>\n",
              "      <td>318</td>\n",
              "      <td>342</td>\n",
              "      <td>391</td>\n",
              "    </tr>\n",
              "    <tr>\n",
              "      <th>2</th>\n",
              "      <td>MAR</td>\n",
              "      <td>362</td>\n",
              "      <td>406</td>\n",
              "      <td>419</td>\n",
              "    </tr>\n",
              "    <tr>\n",
              "      <th>3</th>\n",
              "      <td>APR</td>\n",
              "      <td>348</td>\n",
              "      <td>396</td>\n",
              "      <td>461</td>\n",
              "    </tr>\n",
              "    <tr>\n",
              "      <th>4</th>\n",
              "      <td>MAY</td>\n",
              "      <td>363</td>\n",
              "      <td>420</td>\n",
              "      <td>472</td>\n",
              "    </tr>\n",
              "  </tbody>\n",
              "</table>\n",
              "</div>\n",
              "    <div class=\"colab-df-buttons\">\n",
              "\n",
              "  <div class=\"colab-df-container\">\n",
              "    <button class=\"colab-df-convert\" onclick=\"convertToInteractive('df-b5eaba83-1c81-4560-a9ee-7505f3cf7178')\"\n",
              "            title=\"Convert this dataframe to an interactive table.\"\n",
              "            style=\"display:none;\">\n",
              "\n",
              "  <svg xmlns=\"http://www.w3.org/2000/svg\" height=\"24px\" viewBox=\"0 -960 960 960\">\n",
              "    <path d=\"M120-120v-720h720v720H120Zm60-500h600v-160H180v160Zm220 220h160v-160H400v160Zm0 220h160v-160H400v160ZM180-400h160v-160H180v160Zm440 0h160v-160H620v160ZM180-180h160v-160H180v160Zm440 0h160v-160H620v160Z\"/>\n",
              "  </svg>\n",
              "    </button>\n",
              "\n",
              "  <style>\n",
              "    .colab-df-container {\n",
              "      display:flex;\n",
              "      gap: 12px;\n",
              "    }\n",
              "\n",
              "    .colab-df-convert {\n",
              "      background-color: #E8F0FE;\n",
              "      border: none;\n",
              "      border-radius: 50%;\n",
              "      cursor: pointer;\n",
              "      display: none;\n",
              "      fill: #1967D2;\n",
              "      height: 32px;\n",
              "      padding: 0 0 0 0;\n",
              "      width: 32px;\n",
              "    }\n",
              "\n",
              "    .colab-df-convert:hover {\n",
              "      background-color: #E2EBFA;\n",
              "      box-shadow: 0px 1px 2px rgba(60, 64, 67, 0.3), 0px 1px 3px 1px rgba(60, 64, 67, 0.15);\n",
              "      fill: #174EA6;\n",
              "    }\n",
              "\n",
              "    .colab-df-buttons div {\n",
              "      margin-bottom: 4px;\n",
              "    }\n",
              "\n",
              "    [theme=dark] .colab-df-convert {\n",
              "      background-color: #3B4455;\n",
              "      fill: #D2E3FC;\n",
              "    }\n",
              "\n",
              "    [theme=dark] .colab-df-convert:hover {\n",
              "      background-color: #434B5C;\n",
              "      box-shadow: 0px 1px 3px 1px rgba(0, 0, 0, 0.15);\n",
              "      filter: drop-shadow(0px 1px 2px rgba(0, 0, 0, 0.3));\n",
              "      fill: #FFFFFF;\n",
              "    }\n",
              "  </style>\n",
              "\n",
              "    <script>\n",
              "      const buttonEl =\n",
              "        document.querySelector('#df-b5eaba83-1c81-4560-a9ee-7505f3cf7178 button.colab-df-convert');\n",
              "      buttonEl.style.display =\n",
              "        google.colab.kernel.accessAllowed ? 'block' : 'none';\n",
              "\n",
              "      async function convertToInteractive(key) {\n",
              "        const element = document.querySelector('#df-b5eaba83-1c81-4560-a9ee-7505f3cf7178');\n",
              "        const dataTable =\n",
              "          await google.colab.kernel.invokeFunction('convertToInteractive',\n",
              "                                                    [key], {});\n",
              "        if (!dataTable) return;\n",
              "\n",
              "        const docLinkHtml = 'Like what you see? Visit the ' +\n",
              "          '<a target=\"_blank\" href=https://colab.research.google.com/notebooks/data_table.ipynb>data table notebook</a>'\n",
              "          + ' to learn more about interactive tables.';\n",
              "        element.innerHTML = '';\n",
              "        dataTable['output_type'] = 'display_data';\n",
              "        await google.colab.output.renderOutput(dataTable, element);\n",
              "        const docLink = document.createElement('div');\n",
              "        docLink.innerHTML = docLinkHtml;\n",
              "        element.appendChild(docLink);\n",
              "      }\n",
              "    </script>\n",
              "  </div>\n",
              "\n",
              "\n",
              "<div id=\"df-4e80f3d9-d01d-4316-a0e0-1849a0d233dd\">\n",
              "  <button class=\"colab-df-quickchart\" onclick=\"quickchart('df-4e80f3d9-d01d-4316-a0e0-1849a0d233dd')\"\n",
              "            title=\"Suggest charts\"\n",
              "            style=\"display:none;\">\n",
              "\n",
              "<svg xmlns=\"http://www.w3.org/2000/svg\" height=\"24px\"viewBox=\"0 0 24 24\"\n",
              "     width=\"24px\">\n",
              "    <g>\n",
              "        <path d=\"M19 3H5c-1.1 0-2 .9-2 2v14c0 1.1.9 2 2 2h14c1.1 0 2-.9 2-2V5c0-1.1-.9-2-2-2zM9 17H7v-7h2v7zm4 0h-2V7h2v10zm4 0h-2v-4h2v4z\"/>\n",
              "    </g>\n",
              "</svg>\n",
              "  </button>\n",
              "\n",
              "<style>\n",
              "  .colab-df-quickchart {\n",
              "      --bg-color: #E8F0FE;\n",
              "      --fill-color: #1967D2;\n",
              "      --hover-bg-color: #E2EBFA;\n",
              "      --hover-fill-color: #174EA6;\n",
              "      --disabled-fill-color: #AAA;\n",
              "      --disabled-bg-color: #DDD;\n",
              "  }\n",
              "\n",
              "  [theme=dark] .colab-df-quickchart {\n",
              "      --bg-color: #3B4455;\n",
              "      --fill-color: #D2E3FC;\n",
              "      --hover-bg-color: #434B5C;\n",
              "      --hover-fill-color: #FFFFFF;\n",
              "      --disabled-bg-color: #3B4455;\n",
              "      --disabled-fill-color: #666;\n",
              "  }\n",
              "\n",
              "  .colab-df-quickchart {\n",
              "    background-color: var(--bg-color);\n",
              "    border: none;\n",
              "    border-radius: 50%;\n",
              "    cursor: pointer;\n",
              "    display: none;\n",
              "    fill: var(--fill-color);\n",
              "    height: 32px;\n",
              "    padding: 0;\n",
              "    width: 32px;\n",
              "  }\n",
              "\n",
              "  .colab-df-quickchart:hover {\n",
              "    background-color: var(--hover-bg-color);\n",
              "    box-shadow: 0 1px 2px rgba(60, 64, 67, 0.3), 0 1px 3px 1px rgba(60, 64, 67, 0.15);\n",
              "    fill: var(--button-hover-fill-color);\n",
              "  }\n",
              "\n",
              "  .colab-df-quickchart-complete:disabled,\n",
              "  .colab-df-quickchart-complete:disabled:hover {\n",
              "    background-color: var(--disabled-bg-color);\n",
              "    fill: var(--disabled-fill-color);\n",
              "    box-shadow: none;\n",
              "  }\n",
              "\n",
              "  .colab-df-spinner {\n",
              "    border: 2px solid var(--fill-color);\n",
              "    border-color: transparent;\n",
              "    border-bottom-color: var(--fill-color);\n",
              "    animation:\n",
              "      spin 1s steps(1) infinite;\n",
              "  }\n",
              "\n",
              "  @keyframes spin {\n",
              "    0% {\n",
              "      border-color: transparent;\n",
              "      border-bottom-color: var(--fill-color);\n",
              "      border-left-color: var(--fill-color);\n",
              "    }\n",
              "    20% {\n",
              "      border-color: transparent;\n",
              "      border-left-color: var(--fill-color);\n",
              "      border-top-color: var(--fill-color);\n",
              "    }\n",
              "    30% {\n",
              "      border-color: transparent;\n",
              "      border-left-color: var(--fill-color);\n",
              "      border-top-color: var(--fill-color);\n",
              "      border-right-color: var(--fill-color);\n",
              "    }\n",
              "    40% {\n",
              "      border-color: transparent;\n",
              "      border-right-color: var(--fill-color);\n",
              "      border-top-color: var(--fill-color);\n",
              "    }\n",
              "    60% {\n",
              "      border-color: transparent;\n",
              "      border-right-color: var(--fill-color);\n",
              "    }\n",
              "    80% {\n",
              "      border-color: transparent;\n",
              "      border-right-color: var(--fill-color);\n",
              "      border-bottom-color: var(--fill-color);\n",
              "    }\n",
              "    90% {\n",
              "      border-color: transparent;\n",
              "      border-bottom-color: var(--fill-color);\n",
              "    }\n",
              "  }\n",
              "</style>\n",
              "\n",
              "  <script>\n",
              "    async function quickchart(key) {\n",
              "      const quickchartButtonEl =\n",
              "        document.querySelector('#' + key + ' button');\n",
              "      quickchartButtonEl.disabled = true;  // To prevent multiple clicks.\n",
              "      quickchartButtonEl.classList.add('colab-df-spinner');\n",
              "      try {\n",
              "        const charts = await google.colab.kernel.invokeFunction(\n",
              "            'suggestCharts', [key], {});\n",
              "      } catch (error) {\n",
              "        console.error('Error during call to suggestCharts:', error);\n",
              "      }\n",
              "      quickchartButtonEl.classList.remove('colab-df-spinner');\n",
              "      quickchartButtonEl.classList.add('colab-df-quickchart-complete');\n",
              "    }\n",
              "    (() => {\n",
              "      let quickchartButtonEl =\n",
              "        document.querySelector('#df-4e80f3d9-d01d-4316-a0e0-1849a0d233dd button');\n",
              "      quickchartButtonEl.style.display =\n",
              "        google.colab.kernel.accessAllowed ? 'block' : 'none';\n",
              "    })();\n",
              "  </script>\n",
              "</div>\n",
              "\n",
              "    </div>\n",
              "  </div>\n"
            ],
            "application/vnd.google.colaboratory.intrinsic+json": {
              "type": "dataframe",
              "variable_name": "df",
              "summary": "{\n  \"name\": \"df\",\n  \"rows\": 12,\n  \"fields\": [\n    {\n      \"column\": \"Month\",\n      \"properties\": {\n        \"dtype\": \"string\",\n        \"num_unique_values\": 12,\n        \"samples\": [\n          \"NOV\",\n          \"OCT\",\n          \"JAN\"\n        ],\n        \"semantic_type\": \"\",\n        \"description\": \"\"\n      }\n    },\n    {\n      \"column\": \" \\\"1958\\\"\",\n      \"properties\": {\n        \"dtype\": \"number\",\n        \"std\": 64,\n        \"min\": 310,\n        \"max\": 505,\n        \"num_unique_values\": 12,\n        \"samples\": [\n          310,\n          359,\n          340\n        ],\n        \"semantic_type\": \"\",\n        \"description\": \"\"\n      }\n    },\n    {\n      \"column\": \" \\\"1959\\\"\",\n      \"properties\": {\n        \"dtype\": \"number\",\n        \"std\": 69,\n        \"min\": 342,\n        \"max\": 559,\n        \"num_unique_values\": 12,\n        \"samples\": [\n          362,\n          407,\n          360\n        ],\n        \"semantic_type\": \"\",\n        \"description\": \"\"\n      }\n    },\n    {\n      \"column\": \" \\\"1960\\\"\",\n      \"properties\": {\n        \"dtype\": \"number\",\n        \"std\": 77,\n        \"min\": 390,\n        \"max\": 622,\n        \"num_unique_values\": 11,\n        \"samples\": [\n          535,\n          417,\n          390\n        ],\n        \"semantic_type\": \"\",\n        \"description\": \"\"\n      }\n    }\n  ]\n}"
            }
          },
          "metadata": {},
          "execution_count": 9
        }
      ]
    },
    {
      "cell_type": "markdown",
      "source": [
        "Columns and values are wrapped in \" \" (e.g., \"Month\", \"JAN\").\n",
        "\n",
        "it Requires cleaning for seamless analysis (e.g., df.columns.str.strip('\"')). it also\n",
        "Confirmed with df.info() – all 12 months have data for each year and there is no missing value and\n",
        "Passenger counts increase every year (e.g., January: 340 → 360 → 417). there is also Peaks in spring (MAR-MAY), dips in winter (JAN-FEB).   \n",
        "December 1960 (461) > November 1960 (431) – unusual for holiday travel in the potential issues."
      ],
      "metadata": {
        "id": "VrSkjLZyM9jF"
      }
    },
    {
      "cell_type": "code",
      "source": [
        "#6.\n",
        "import pandas as pd\n",
        "url = \"https://people.sc.fsu.edu/~jburkardt/data/csv/airtravel.csv\"\n",
        "df = pd.read_csv(url)\n",
        "df.columns = df.columns.str.strip()\n",
        "print(df.columns)\n",
        "df.rename(columns=lambda x: x.strip(), inplace=True)\n",
        "print(df.columns)\n",
        "df = df[df['Month'].str.upper() != 'TOTAL']\n",
        "year_col = [col for col in df.columns if '1958' in col][0]\n",
        "df[year_col] = pd.to_numeric(df[year_col], errors='coerce')\n",
        "max_passengers = df[year_col].max()\n",
        "max_month = df.loc[df[year_col] == max_passengers, 'Month'].values[0]\n",
        "min_passengers = df[year_col].min()\n",
        "min_month = df.loc[df[year_col] == min_passengers, 'Month'].values[0]\n",
        "print(f\"Month with the highest passengers in 1958: {max_month} ({max_passengers}k)\")\n",
        "print(f\"Month with the lowest passengers in 1958: {min_month} ({min_passengers}k)\")\n"
      ],
      "metadata": {
        "colab": {
          "base_uri": "https://localhost:8080/"
        },
        "id": "MWyDTpuNO7Yu",
        "outputId": "742e9a03-3aea-4c1e-d087-5177bc83a69b"
      },
      "execution_count": null,
      "outputs": [
        {
          "output_type": "stream",
          "name": "stdout",
          "text": [
            "Index(['Month', '\"1958\"', '\"1959\"', '\"1960\"'], dtype='object')\n",
            "Index(['Month', '\"1958\"', '\"1959\"', '\"1960\"'], dtype='object')\n",
            "Month with the highest passengers in 1958: AUG (505k)\n",
            "Month with the lowest passengers in 1958: NOV (310k)\n"
          ]
        }
      ]
    },
    {
      "cell_type": "code",
      "source": [
        "#7.\n",
        "import pandas as pd\n",
        "data = {\n",
        "    'Department': ['HR', 'HR', 'IT', 'IT', 'Finance', 'Finance'],\n",
        "    'Employee': ['rio', 'roba', 'moi', 'abdi', 'amiko', 'osman'],\n",
        "    'Salary': [50000, 55000, 60000, 62000, 58000, 59000]\n",
        "}\n",
        "\n",
        "df = pd.DataFrame(data)\n",
        "grouped = df.groupby('Department')['Salary'].mean()\n",
        "print(grouped)\n"
      ],
      "metadata": {
        "colab": {
          "base_uri": "https://localhost:8080/"
        },
        "id": "zi25UpdKRyZX",
        "outputId": "7fae4835-3e92-4a4a-e67a-bf6056f124bb"
      },
      "execution_count": null,
      "outputs": [
        {
          "output_type": "stream",
          "name": "stdout",
          "text": [
            "Department\n",
            "Finance    58500.0\n",
            "HR         52500.0\n",
            "IT         61000.0\n",
            "Name: Salary, dtype: float64\n"
          ]
        }
      ]
    },
    {
      "cell_type": "markdown",
      "source": [
        "groupby(): function in pandas is used to split data into groups based on some criteria, apply a function to each group, and combine the results."
      ],
      "metadata": {
        "id": "qzLPiSYeSMXH"
      }
    },
    {
      "cell_type": "code",
      "source": [
        "#8.\n",
        "import seaborn as sns\n",
        "import pandas as pd\n",
        "titanic = sns.load_dataset('titanic')\n",
        "missing_values = titanic.isnull().sum()\n",
        "print(missing_values)\n"
      ],
      "metadata": {
        "colab": {
          "base_uri": "https://localhost:8080/"
        },
        "id": "At5DSvf5TWFS",
        "outputId": "f0b1e9e1-959c-4a5f-a621-dc7bb93b46f0"
      },
      "execution_count": null,
      "outputs": [
        {
          "output_type": "stream",
          "name": "stdout",
          "text": [
            "survived         0\n",
            "pclass           0\n",
            "sex              0\n",
            "age            177\n",
            "sibsp            0\n",
            "parch            0\n",
            "fare             0\n",
            "embarked         2\n",
            "class            0\n",
            "who              0\n",
            "adult_male       0\n",
            "deck           688\n",
            "embark_town      2\n",
            "alive            0\n",
            "alone            0\n",
            "dtype: int64\n"
          ]
        }
      ]
    },
    {
      "cell_type": "code",
      "source": [
        "#9.\n",
        "import pandas as pd\n",
        "import matplotlib.pyplot as plt\n",
        "data = {'Age': [22, 25, 28, 30, 32, 35, 38, 40, 42, 45,\n",
        "                50, 52, 55, 60, 65, 70, 75, 22, 24, 26,\n",
        "                28, 30, 32, 35, 38, 40, 42, 45, 50, 55]}\n",
        "df = pd.DataFrame(data)\n",
        "df[\"Age\"].hist(bins=10, edgecolor='black')\n",
        "plt.title(\"Age Distribution\")\n",
        "plt.xlabel(\"Age\")\n",
        "plt.ylabel(\"Frequency\")\n",
        "plt.show()"
      ],
      "metadata": {
        "id": "uI2H3pr_T-nn"
      },
      "execution_count": null,
      "outputs": []
    },
    {
      "cell_type": "markdown",
      "source": [
        "The histogram will typically show a right-skewed distribution which is long tail on the right, that means:\n",
        "Most people are clustered at younger ages those left side\n",
        "Fewer individuals at older ages those right side"
      ],
      "metadata": {
        "id": "V7bDCYpSULSs"
      }
    },
    {
      "cell_type": "code",
      "source": [
        "#10.\n",
        "import pandas as pd\n",
        "import numpy as np\n",
        "lowStd = [10, 11, 9, 10, 12, 10, 11]\n",
        "highStd = [1, 20, 5, 30, 2, 50, 10]\n",
        "df = pd.DataFrame({\n",
        "    \"Low_Std_Dev\": lowStd,\n",
        "    \"High_Std_Dev\": highStd\n",
        "})\n",
        "stats = df.agg([\"mean\", \"std\"])\n",
        "print(stats)"
      ],
      "metadata": {
        "colab": {
          "base_uri": "https://localhost:8080/"
        },
        "id": "nUQZkvYZUq5M",
        "outputId": "97e6805c-1070-4c29-d126-9fb467a9e33d"
      },
      "execution_count": null,
      "outputs": [
        {
          "output_type": "stream",
          "name": "stdout",
          "text": [
            "      Low_Std_Dev  High_Std_Dev\n",
            "mean    10.428571     16.857143\n",
            "std      0.975900     17.985444\n"
          ]
        }
      ]
    },
    {
      "cell_type": "markdown",
      "source": [
        "If there is high standard deviation (std. dev.) means that data points are spread out widely from the mean (average). This determines that there is high variability in the data and values are less consistent and more unpredictable also there is possible outliers or extreme values affecting the distribution."
      ],
      "metadata": {
        "id": "QuBAzkDZVzt5"
      }
    },
    {
      "cell_type": "code",
      "source": [
        "#11.\n",
        "#1.E-Commerce Recommendation Systems: it has the problem of missing user behavior data (e.g., clicks, purchases) due to technical glitches and\n",
        "         # recommends irrelevant products because full user preferences aren't known\n",
        "\n",
        "#2.Climate Change Research: it has the problem of missing historical temperature or precipitation records from certain regions which leads to\n",
        "#incomplete climate models may underestimate regional warming trends and could lead to flawed predictions about extreme weather events"
      ],
      "metadata": {
        "id": "R2cGHMiuXKwM"
      },
      "execution_count": null,
      "outputs": []
    }
  ]
}